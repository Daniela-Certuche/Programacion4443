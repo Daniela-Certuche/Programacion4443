{
  "cells": [
    {
      "cell_type": "markdown",
      "source": [
        "# **Desarrollo de las Preguntas Taller 2**"
      ],
      "metadata": {
        "id": "fAGjPtD2tFvX"
      }
    },
    {
      "cell_type": "markdown",
      "source": [
        "**1) Si el empleado es mayor de 55 años disfrutará de un bono de prepensión correspondiente al 5% de su sueldo básico.**"
      ],
      "metadata": {
        "id": "PPYeoGgTspjH"
      }
    },
    {
      "cell_type": "code",
      "source": [
        "Edad = input(\"Digite su edad: \")\n",
        "if Edad > \"55\":\n",
        "  print(\"Bono_Prepensión = Aprobado\")\n",
        "else:\n",
        "  print(\"Bono_Prepensión = No Aprobado\")\n",
        "Sueldo_Básico = int(input(\"Digite su sueldo básico: \"))\n",
        "# Calculo Bono Prepensión\n",
        "if Edad > \"55\":\n",
        "  Bonificación = Sueldo_Básico * 0.05\n",
        "  print(f\"Valor Bonificación Prepensión= ${Bonificación:,.0f}\")\n",
        "else:\n",
        "  print(\"Bono_Prepensión = No Aplica\")\n"
      ],
      "metadata": {
        "colab": {
          "base_uri": "https://localhost:8080/"
        },
        "id": "5rbjqlQ9LgFu",
        "outputId": "cf88ae50-e889-4df8-87bd-7fb307a67d14"
      },
      "execution_count": 60,
      "outputs": [
        {
          "output_type": "stream",
          "name": "stdout",
          "text": [
            "Digite su edad: 90\n",
            "Bono_Prepensión = Aprobado\n",
            "Digite su sueldo básico: 1000000\n",
            "Valor Bonificación Prepensión= $50,000\n"
          ]
        }
      ]
    },
    {
      "cell_type": "markdown",
      "source": [
        "**2) Si el empleado es casado y tiene hijos se le otorgará un paseo cada Diciembre**"
      ],
      "metadata": {
        "id": "eRveKTUQslw4"
      }
    },
    {
      "cell_type": "code",
      "source": [
        "Estado_Civil = input(\"Digite su estado civil: \")\n",
        "Número_Hijos = int(input(\"Confirme su Número de Hijos: \"))\n",
        "#IF Calculo Paseo Diciembre\n",
        "if Estado_Civil == \"Casado\":\n",
        "  Estado_Civil = int(1)\n",
        "  if Número_Hijos > 0 and Estado_Civil == 1:\n",
        "      print(f\"El empleado tiene derecho a un paseo cada Diciembre por estar casado y tener {Número_Hijos} hijos\")"
      ],
      "metadata": {
        "colab": {
          "base_uri": "https://localhost:8080/"
        },
        "id": "GsZvgX_Ud-JU",
        "outputId": "2b73b5d0-b9bf-4c34-e2da-c3cc516730a3"
      },
      "execution_count": 114,
      "outputs": [
        {
          "output_type": "stream",
          "name": "stdout",
          "text": [
            "Digite su estado civil: Casado\n",
            "Confirme su Número de Hijos: 4\n",
            "El empleado tiene derecho a un paseo cada Diciembre por estar casado y tener 4 hijos\n"
          ]
        }
      ]
    },
    {
      "cell_type": "markdown",
      "source": [
        "**3) Si el sueldo básico está entre 1000000 y 1500000 tendrá una comisión del 2% sobre el valor del sueldo; Si el sueldo está entre 1500001 y 2000000 tendrá una comisión del 5% sobre el valor del sueldo; para todos los demás casos no habrá comisión.**"
      ],
      "metadata": {
        "id": "kDA5uQjXtvTt"
      }
    },
    {
      "cell_type": "code",
      "source": [
        "Sueldo_Básico = int(input(\"Digite su sueldo básico:$ \"))\n",
        "# Calculo Comisión\n",
        "if Sueldo_Básico > 999999 and Sueldo_Básico < 1500000:\n",
        "  Comisión_2 = Sueldo_Básico * 0.02\n",
        "  print(f\"El empleado tiene derecho a una comisión correspondiente a ${Comisión_2}\")\n",
        "if Sueldo_Básico > 1500000 and Sueldo_Básico < 2000001:\n",
        "  Comisión_5 = Sueldo_Básico * 0.05\n",
        "  print(f\"El empleado tiene derecho a una comisión correspondiente a ${Comisión_5}\")"
      ],
      "metadata": {
        "colab": {
          "base_uri": "https://localhost:8080/"
        },
        "id": "L2fMYZvYuNoD",
        "outputId": "b0a16e3e-aa78-462a-a2ea-4431e82af5ba"
      },
      "execution_count": 125,
      "outputs": [
        {
          "output_type": "stream",
          "name": "stdout",
          "text": [
            "Digite su sueldo básico:$ 1000000\n",
            "El empleado tiene derecho a una comisión correspondiente a $20000.0\n"
          ]
        }
      ]
    },
    {
      "cell_type": "markdown",
      "source": [
        "**4) Si el empleado trabajó más de 20 días al mes y su sueldo es menor a 1000000 tendrá derecho a un bono de alimentación**"
      ],
      "metadata": {
        "id": "bw-bthpQxnVb"
      }
    },
    {
      "cell_type": "code",
      "source": [
        "Sueldo_Básico = int(input(\"Digite su sueldo básico:$ \"))\n",
        "Días_Laborados = int(input(\"Digite los días laborados: \"))\n",
        "# Calculo Bono Alimentación\n",
        "if Días_Laborados > 19 and Sueldo_Básico < 1000001:\n",
        "  Bono_Alimentación = \"Aplica\"\n",
        "  print(f\"El empleado {Bono_Alimentación} para bono de alimentación\")"
      ],
      "metadata": {
        "colab": {
          "base_uri": "https://localhost:8080/"
        },
        "id": "Uq3si2iGx5ei",
        "outputId": "c05fca63-97d0-446c-d175-d8e26b0e8079"
      },
      "execution_count": 137,
      "outputs": [
        {
          "output_type": "stream",
          "name": "stdout",
          "text": [
            "Digite su sueldo básico:$ 700000\n",
            "Digite los días laborados: 20\n",
            "El empleado Aplica para bono de alimentación\n"
          ]
        }
      ]
    },
    {
      "cell_type": "markdown",
      "source": [
        "# **Taller 2 Cuestionario Final**"
      ],
      "metadata": {
        "id": "JsDn2Qdo_ZNP"
      }
    },
    {
      "cell_type": "code",
      "source": [
        "No_identificacion = input(\"Digite su Identificación: \")\n",
        "Nombres = input(\"Digite su (s) nombre: \")\n",
        "Apellidos = input(\"Digite sus apellidos: \")\n",
        "Direccion = input(\"Digite su dirección: \")\n",
        "Telefono = input(\"Digite su teléfono: \")\n",
        "Edad = input(\"Digite su edad: \")\n",
        "Estado_Civil = input(\"Digite su estado civil: \")\n",
        "Número_Hijos = int(input(\"Confirme su Número de Hijos: \"))\n",
        "Estatura_cms = input(\"Digite su Estatura cms: \")\n",
        "Fecha_contratación = input(\"Digite la Fecha de Contratación (día/mes/año): \")\n",
        "Sueldo_Básico = int(input(\"Digite su sueldo básico:$ \"))\n",
        "Días_Laborados = int(input(\"Digite los días laborados: \"))\n",
        "\n",
        "\n",
        "# Impresión de Datos Finales\n",
        "print(f\"\\nIdentificación del Empleado {No_identificacion}\")\n",
        "print(f\"Nombre del Empleado {Nombres + Apellidos}\")\n",
        "print(f\"Dirección del Empleado {Direccion}\")\n",
        "print(f\"No. Telefónico del Empleado {Telefono}\")\n",
        "print(f\"Edad del Empleado {Edad} años\")\n",
        "print(f\"Estado Civil del Empleado {Estado_Civil}\")\n",
        "print(f\"Número de Hijos del Empleado {Número_Hijos}\")\n",
        "print(f\"Estatura del Empleado {Estatura_cms} cms\")\n",
        "print(f\"Fecha de Contratación del Empleado {Fecha_contratación}\")\n",
        "print(f\"No. de Días Laborados {Días_Laborados}\")\n",
        "if Edad > \"55\":\n",
        "  print(\"Bono_Prepensión = Aprobado\")\n",
        "else:\n",
        "  print(\"Bono_Prepensión = No Aprobado\")\n",
        "# Calculo Bono Prepensión\n",
        "if Edad > \"55\":\n",
        "  Bonificación = Sueldo_Básico * 0.05\n",
        "  print(f\"Valor Bonificación Prepensión= ${Bonificación:,.0f}\")\n",
        "#IF Calculo Paseo Diciembre\n",
        "if Estado_Civil == \"Casado\":\n",
        "  Estado_Civil = int(1)\n",
        "  if Número_Hijos > 0 and Estado_Civil == 1:\n",
        "      print(f\"El empleado tiene derecho a un paseo cada Diciembre por estar casado y tener {Número_Hijos} hijos\")\n",
        "# Calculo Comisión\n",
        "if Sueldo_Básico > 999999 and Sueldo_Básico < 1500000:\n",
        "  Comisión_2 = Sueldo_Básico * 0.02\n",
        "  print(f\"El empleado tiene derecho a una comisión correspondiente a ${Comisión_2}\")\n",
        "if Sueldo_Básico > 1500000 and Sueldo_Básico < 2000001:\n",
        "  Comisión_5 = Sueldo_Básico * 0.05\n",
        "  print(f\"El empleado tiene derecho a una comisión correspondiente a ${Comisión_5}\")\n",
        "# Calculo Bono Alimentación\n",
        "if Días_Laborados > 19 and Sueldo_Básico < 1000001:\n",
        "  Bono_Alimentación = \"Aplica\"\n",
        "  print(f\"El empleado {Bono_Alimentación} para bono de alimentación\")\n"
      ],
      "metadata": {
        "colab": {
          "base_uri": "https://localhost:8080/"
        },
        "id": "xhSH0kij0fKL",
        "outputId": "72ca36ec-6c51-4203-8f94-e9f2769c5f4a"
      },
      "execution_count": 155,
      "outputs": [
        {
          "output_type": "stream",
          "name": "stdout",
          "text": [
            "Digite su Identificación: 1088308824\n",
            "Digite su (s) nombre: Daniela\n",
            "Digite sus apellidos: Certuche Ramos\n",
            "Digite su dirección: Calle 160\n",
            "Digite su teléfono: 3174410191\n",
            "Digite su edad: 60\n",
            "Digite su estado civil: Casado\n",
            "Confirme su Número de Hijos: 3\n",
            "Digite su Estatura cms: 169\n",
            "Digite la Fecha de Contratación (día/mes/año): 16/07/2012\n",
            "Digite su sueldo básico:$ 1000000\n",
            "Digite los días laborados: 30\n",
            "\n",
            "Identificación del Empleado 1088308824\n",
            "Nombre del Empleado DanielaCertuche Ramos\n",
            "Dirección del Empleado Calle 160\n",
            "No. Telefónico del Empleado 3174410191\n",
            "Edad del Empleado 60 años\n",
            "Estado Civil del Empleado Casado\n",
            "Número de Hijos del Empleado 3\n",
            "Estatura del Empleado 169 cms\n",
            "Fecha de Contratación del Empleado 16/07/2012\n",
            "No. de Días Laborados 30\n",
            "Bono_Prepensión = Aprobado\n",
            "Valor Bonificación Prepensión= $50,000\n",
            "El empleado tiene derecho a un paseo cada Diciembre por estar casado y tener 3 hijos\n",
            "El empleado tiene derecho a una comisión correspondiente a $20000.0\n",
            "El empleado Aplica para bono de alimentación\n"
          ]
        }
      ]
    }
  ],
  "metadata": {
    "colab": {
      "provenance": []
    },
    "kernelspec": {
      "display_name": "Python 3",
      "name": "python3"
    },
    "language_info": {
      "name": "python"
    }
  },
  "nbformat": 4,
  "nbformat_minor": 0
}