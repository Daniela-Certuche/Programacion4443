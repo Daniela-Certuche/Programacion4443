{
  "nbformat": 4,
  "nbformat_minor": 0,
  "metadata": {
    "colab": {
      "provenance": []
    },
    "kernelspec": {
      "name": "python3",
      "display_name": "Python 3"
    },
    "language_info": {
      "name": "python"
    }
  },
  "cells": [
    {
      "cell_type": "markdown",
      "source": [
        "# **Taller de Refuerzo**"
      ],
      "metadata": {
        "id": "CByTF8hwBvCR"
      }
    },
    {
      "cell_type": "markdown",
      "source": [
        "1) Un vendedor recibe un sueldo base más un 10% extra por\n",
        "comisión de sus ventas, el vendedor desea saber cuánto\n",
        "dinero obtendrá por concepto de comisiones por las tres\n",
        "ventas que realiza en el mes y el total que recibirá en\n",
        "el mes tomando en cuenta su sueldo base y comisiones."
      ],
      "metadata": {
        "id": "Mt_7jgIzB0p-"
      }
    },
    {
      "cell_type": "code",
      "source": [
        "Sueldo_Base = float(input(\"Digite su sueldo base:$ \"))\n",
        "Valor_Venta_1 = float(input(\"Digite el valor de la venta 1:$ \"))\n",
        "Valor_Venta_2 = float(input(\"Digite el valor de la venta 2:$ \"))\n",
        "Valor_Venta_3 = float(input(\"Digite el valor de la venta 3:$ \"))\n",
        "#Calculo Comisión Obtenida\n",
        "Comisión_1 = Valor_Venta_1 * 0.10\n",
        "Comisión_2 = Valor_Venta_2 * 0.10\n",
        "Comisión_3 = Valor_Venta_3 * 0.10\n",
        "# Calculo Valor Total a Recibir\n",
        "Valor_Total = (Sueldo_Base + Comisión_1 + Comisión_2 + Comisión_3)\n",
        "print(f\"El valor de la comisión de la venta 1: ${Comisión_1:,.0f}\")\n",
        "print(f\"El valor de la comisión de la venta 2: ${Comisión_2:,.0f}\")\n",
        "print(f\"El valor de la comisión de la venta 3: ${Comisión_3:,.0f}\")\n",
        "print(f\"El vendedor recibirá al cierre del mes ${Valor_Total:,.0f} correspondiente al sueldo base más bonificaciones.\")"
      ],
      "metadata": {
        "colab": {
          "base_uri": "https://localhost:8080/"
        },
        "id": "duMn5eGbB3U7",
        "outputId": "3638932c-0578-4ac5-ea9d-839847a7de31"
      },
      "execution_count": 22,
      "outputs": [
        {
          "output_type": "stream",
          "name": "stdout",
          "text": [
            "Digite su sueldo base:$ 1500000\n",
            "Digite el valor de la venta 1:$ 150000\n",
            "Digite el valor de la venta 2:$ 200000\n",
            "Digite el valor de la venta 3:$ 300000\n",
            "El valor de la comisión de la venta 1: $15,000\n",
            "El valor de la comisión de la venta 2: $20,000\n",
            "El valor de la comisión de la venta 3: $30,000\n",
            "El vendedor recibirá al cierre del mes $1,565,000 correspondiente al sueldo base más bonificaciones.\n"
          ]
        }
      ]
    },
    {
      "cell_type": "markdown",
      "source": [
        "2) Una tienda ofrece un descuento del 15% sobre el total\n",
        "de la compra y un cliente desea saber cuánto deberá\n",
        "pagar finalmente por su compra."
      ],
      "metadata": {
        "id": "BwySBiwHB-2t"
      }
    },
    {
      "cell_type": "code",
      "source": [
        "Valor_Compra = float(input(\"Digite el valor de la compra: $\"))\n",
        "# Calculo Descuento sobre la compra\n",
        "Descuento = Valor_Compra * 0.15\n",
        "Valor_Pagar = Valor_Compra - Descuento\n",
        "print(f\"El valor del descuento es $:{Descuento:,.0f}, el cliente debe generar un pago de $:{Valor_Pagar:,.0f}\")"
      ],
      "metadata": {
        "colab": {
          "base_uri": "https://localhost:8080/"
        },
        "id": "qaPuj7o0CDrg",
        "outputId": "28048cc2-4d18-4e92-f50c-faf8754702f5"
      },
      "execution_count": 25,
      "outputs": [
        {
          "output_type": "stream",
          "name": "stdout",
          "text": [
            "Digite el valor de la compra: $150000\n",
            "El valor del descuento es $:22,500, el cliente debe generar un pago de $:127,500\n"
          ]
        }
      ]
    },
    {
      "cell_type": "markdown",
      "source": [
        "3) Un alumno desea saber cuál será su calificación final en\n",
        "la materia de Algoritmos. Dicha calificación se compone\n",
        "de tres exámenes parciales."
      ],
      "metadata": {
        "id": "Fr6ctD8cCEd3"
      }
    },
    {
      "cell_type": "code",
      "source": [
        "Calificación_1 = float(input(\"Digite la calificación obtenida: \"))\n",
        "Calificación_2 = float(input(\"Digite la calificación obtenida: \"))\n",
        "Calificación_3 = float(input(\"Digite la calificación obtenida: \"))\n",
        "Promedio_Materia = round((Calificación_1 + Calificación_2 + Calificación_3) /3, 2)\n",
        "print(f\"La calificación final de la materia Algoritmos es = {Promedio_Materia}\")"
      ],
      "metadata": {
        "colab": {
          "base_uri": "https://localhost:8080/"
        },
        "id": "NHCKAIZ4CHUW",
        "outputId": "e734821e-23a2-4b69-c1f7-f7675e1367c0"
      },
      "execution_count": 3,
      "outputs": [
        {
          "output_type": "stream",
          "name": "stdout",
          "text": [
            "Digite la calificación obtenida: 3\n",
            "Digite la calificación obtenida: 2.5\n",
            "Digite la calificación obtenida: 4.8\n",
            "La calificación final de la materia Algoritmos es = 3.43\n"
          ]
        }
      ]
    },
    {
      "cell_type": "markdown",
      "source": [
        "4) Un maestro desea saber qué porcentaje de hombres y que\n",
        "porcentaje de mujeres hay en un grupo de estudiantes."
      ],
      "metadata": {
        "id": "YnVshajnCIb_"
      }
    },
    {
      "cell_type": "code",
      "source": [
        "Numero_Hombres = float(input(\"Digite la Cantidad de Hombres: \"))\n",
        "Numero_Mujeres = float(input(\"Digite la Cantidad de Mujeres: \"))\n",
        "Total_Grupo = (Numero_Hombres + Numero_Mujeres)\n",
        "#Calculo Porcentaje por Genero\n",
        "Porc_Hombres = Numero_Hombres / Total_Grupo * 100\n",
        "Porc_Mujeres = Numero_Mujeres / Total_Grupo * 100\n",
        "print(f\"En el grupo hay {Porc_Hombres:,.0f}% de hombres y {Porc_Mujeres:,.0f}% de mujeres\")"
      ],
      "metadata": {
        "colab": {
          "base_uri": "https://localhost:8080/"
        },
        "id": "Mz0MCF72CLnz",
        "outputId": "aee10c65-21c8-4a27-84a1-d7b09660b0bb"
      },
      "execution_count": 26,
      "outputs": [
        {
          "output_type": "stream",
          "name": "stdout",
          "text": [
            "Digite la Cantidad de Hombres: 45\n",
            "Digite la Cantidad de Mujeres: 30\n",
            "En el grupo hay 60% de hombres y 40% de mujeres\n"
          ]
        }
      ]
    }
  ]
}