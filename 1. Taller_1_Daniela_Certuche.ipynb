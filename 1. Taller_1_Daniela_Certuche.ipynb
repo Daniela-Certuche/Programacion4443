{
  "nbformat": 4,
  "nbformat_minor": 0,
  "metadata": {
    "colab": {
      "provenance": []
    },
    "kernelspec": {
      "name": "python3",
      "display_name": "Python 3"
    },
    "language_info": {
      "name": "python"
    }
  },
  "cells": [
    {
      "cell_type": "markdown",
      "source": [
        "# **TALLER 1**"
      ],
      "metadata": {
        "id": "-eETts2t-azs"
      }
    },
    {
      "cell_type": "code",
      "source": [
        "No_identificacion = input(\"Digite su Identificación: \")\n",
        "Nombres = input(\"Digite su (s) nombre: \")\n",
        "Apellidos = input(\"Digite sus apellidos: \")\n",
        "Direccion = input(\"Digite su dirección: \")\n",
        "Telefono = input(\"Digite su teléfono: \")\n",
        "Edad = input(\"Digite su edad: \")\n",
        "Estado_Civil = input(\"Digite su estado civil: \")\n",
        "Número_Hijos = input(\"Confirme su Número de Hijos: \")\n",
        "Estatura_cms = input(\"Digite su Estatura cms: \")\n",
        "Fecha_contratación = input(\"Digite la Fecha de Contratación (día/mes/año): \")\n",
        "Sueldo_Básico = input(\"Digite su sueldo básico: \")\n",
        "Días_Laborados = input(\"Digite los días laborados: \")\n",
        "print(No_identificacion)\n",
        "print(Nombres)\n",
        "print(Apellidos)\n",
        "print(Direccion)\n",
        "print(Telefono)\n",
        "print(Edad)\n",
        "print(Estado_Civil)\n",
        "print(Número_Hijos)\n",
        "print(Estatura_cms)\n",
        "print(Fecha_contratación)\n",
        "print(Estatura_cms)\n",
        "print(Días_Laborados)"
      ],
      "metadata": {
        "colab": {
          "base_uri": "https://localhost:8080/"
        },
        "id": "3gedgha1-dsm",
        "outputId": "2720a859-3c7a-47c4-a6c8-a08e678c5deb"
      },
      "execution_count": 2,
      "outputs": [
        {
          "output_type": "stream",
          "name": "stdout",
          "text": [
            "Digite su Identificación: 1088308824\n",
            "Digite su (s) nombre: Daniela\n",
            "Digite sus apellidos: Certuche\n",
            "Digite su dirección: Calle 160\n",
            "Digite su teléfono: 3174410191\n",
            "Digite su edad: 29\n",
            "Digite su estado civil: Soltera\n",
            "Confirme su Número de Hijos: 0\n",
            "Digite su Estatura cms: 169\n",
            "Digite la Fecha de Contratación (día/mes/año): 16/07/2012\n",
            "Digite su sueldo básico: 99999\n",
            "Digite los días laborados: 350\n",
            "1088308824\n",
            "Daniela\n",
            "Certuche\n",
            "Calle 160\n",
            "3174410191\n",
            "29\n",
            "Soltera\n",
            "0\n",
            "169\n",
            "16/07/2012\n",
            "169\n",
            "350\n"
          ]
        }
      ]
    }
  ]
}